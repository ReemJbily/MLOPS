{
 "cells": [
  {
   "cell_type": "code",
   "execution_count": null,
   "id": "657c7b7e",
   "metadata": {},
   "outputs": [],
   "source": [
    "import pandas as pd\n",
    "import numpy as np\n",
    "import matplotlib.pyplot as plt"
   ]
  },
  {
   "cell_type": "code",
   "execution_count": 59,
   "id": "c249f401",
   "metadata": {},
   "outputs": [],
   "source": [
    "from sklearn.feature_extraction import DictVectorizer\n",
    "from sklearn.linear_model import LinearRegression\n",
    "from sklearn.metrics import mean_squared_error"
   ]
  },
  {
   "cell_type": "code",
   "execution_count": null,
   "id": "d5b52474",
   "metadata": {},
   "outputs": [],
   "source": [
    "!pip install parquet"
   ]
  },
  {
   "cell_type": "code",
   "execution_count": null,
   "id": "e0a81077",
   "metadata": {},
   "outputs": [],
   "source": [
    "!pip install fastparquet"
   ]
  },
  {
   "cell_type": "code",
   "execution_count": null,
   "id": "1229d241",
   "metadata": {},
   "outputs": [],
   "source": [
    "!pip install --upgrade pandas"
   ]
  },
  {
   "cell_type": "code",
   "execution_count": 33,
   "id": "6a919cfb",
   "metadata": {},
   "outputs": [
    {
     "name": "stdout",
     "output_type": "stream",
     "text": [
      "Requirement already satisfied: pandas in /workspaces/MLOPS/bash/lib/python3.9/site-packages (2.2.2)\n",
      "Collecting pyarrow\n",
      "  Downloading pyarrow-17.0.0-cp39-cp39-manylinux_2_28_x86_64.whl (39.9 MB)\n",
      "\u001b[K     |████████████████████████████████| 39.9 MB 22.5 MB/s eta 0:00:01\n",
      "\u001b[?25hRequirement already satisfied: fastparquet in /workspaces/MLOPS/bash/lib/python3.9/site-packages (2024.5.0)\n",
      "Requirement already satisfied: python-dateutil>=2.8.2 in /workspaces/MLOPS/bash/lib/python3.9/site-packages (from pandas) (2.8.2)\n",
      "Requirement already satisfied: numpy>=1.22.4 in /workspaces/MLOPS/bash/lib/python3.9/site-packages (from pandas) (2.0.1)\n",
      "Requirement already satisfied: tzdata>=2022.7 in /workspaces/MLOPS/bash/lib/python3.9/site-packages (from pandas) (2024.1)\n",
      "Requirement already satisfied: pytz>=2020.1 in /workspaces/MLOPS/bash/lib/python3.9/site-packages (from pandas) (2021.3)\n",
      "Requirement already satisfied: cramjam>=2.3 in /workspaces/MLOPS/bash/lib/python3.9/site-packages (from fastparquet) (2.8.3)\n",
      "Requirement already satisfied: fsspec in /workspaces/MLOPS/bash/lib/python3.9/site-packages (from fastparquet) (2022.2.0)\n",
      "Requirement already satisfied: packaging in /workspaces/MLOPS/bash/lib/python3.9/site-packages (from fastparquet) (21.3)\n",
      "Requirement already satisfied: six>=1.5 in /workspaces/MLOPS/bash/lib/python3.9/site-packages (from python-dateutil>=2.8.2->pandas) (1.16.0)\n",
      "Requirement already satisfied: pyparsing!=3.0.5,>=2.0.2 in /workspaces/MLOPS/bash/lib/python3.9/site-packages (from packaging->fastparquet) (3.0.4)\n",
      "Installing collected packages: pyarrow\n",
      "Successfully installed pyarrow-17.0.0\n"
     ]
    }
   ],
   "source": [
    "!pip install --upgrade pandas pyarrow fastparquet"
   ]
  },
  {
   "cell_type": "code",
   "execution_count": null,
   "id": "94486332",
   "metadata": {},
   "outputs": [],
   "source": [
    "#Q1. Downloading the data"
   ]
  },
  {
   "cell_type": "code",
   "execution_count": 44,
   "id": "c481ef77",
   "metadata": {},
   "outputs": [],
   "source": [
    "df = pd.read_parquet('https://d37ci6vzurychx.cloudfront.net/trip-data/yellow_tripdata_2023-01.parquet')"
   ]
  },
  {
   "cell_type": "code",
   "execution_count": 45,
   "id": "a14dca87",
   "metadata": {},
   "outputs": [
    {
     "name": "stdout",
     "output_type": "stream",
     "text": [
      "number of columns: 19\n"
     ]
    }
   ],
   "source": [
    "#Read the data for January. How many columns are there?\n",
    "print('number of columns:',len(df.columns))"
   ]
  },
  {
   "cell_type": "code",
   "execution_count": null,
   "id": "a72ada54",
   "metadata": {},
   "outputs": [],
   "source": [
    "#Q2. Computing duration"
   ]
  },
  {
   "cell_type": "code",
   "execution_count": 46,
   "id": "d093d493",
   "metadata": {},
   "outputs": [],
   "source": [
    "df['duration'] = df.tpep_dropoff_datetime - df.tpep_pickup_datetime\n",
    "df.duration = df.duration.apply(lambda td: td.total_seconds() / 60)"
   ]
  },
  {
   "cell_type": "code",
   "execution_count": 47,
   "id": "0ad6131d",
   "metadata": {},
   "outputs": [
    {
     "name": "stdout",
     "output_type": "stream",
     "text": [
      "42.5943442974141\n"
     ]
    }
   ],
   "source": [
    "#What's the standard deviation of the trips duration in January?\n",
    "print(np.std(df.duration))"
   ]
  },
  {
   "cell_type": "code",
   "execution_count": 48,
   "id": "e01af237",
   "metadata": {},
   "outputs": [
    {
     "data": {
      "text/plain": [
       "98.1220282212598"
      ]
     },
     "execution_count": 48,
     "metadata": {},
     "output_type": "execute_result"
    }
   ],
   "source": [
    "#Q3. Dropping outliers\n",
    "len(df[(df.duration >= 1) & (df.duration <= 60)]) / len(df) * 100"
   ]
  },
  {
   "cell_type": "code",
   "execution_count": 49,
   "id": "7e0d21f3",
   "metadata": {},
   "outputs": [],
   "source": [
    "df = df[(df.duration >= 1) & (df.duration <= 60)].copy()"
   ]
  },
  {
   "cell_type": "code",
   "execution_count": null,
   "id": "0bc5426d",
   "metadata": {},
   "outputs": [],
   "source": [
    "#Q4. One-hot encoding"
   ]
  },
  {
   "cell_type": "code",
   "execution_count": 50,
   "id": "40046efb",
   "metadata": {},
   "outputs": [],
   "source": [
    "categorical = ['PULocationID', 'DOLocationID']\n",
    "df[categorical] = df[categorical].astype(str)\n",
    "train_dicts = df[categorical].to_dict(orient='records')"
   ]
  },
  {
   "cell_type": "code",
   "execution_count": 52,
   "id": "5985b6ff",
   "metadata": {},
   "outputs": [],
   "source": [
    "dv = DictVectorizer()\n",
    "x_train = dv.fit_transform(train_dicts)"
   ]
  },
  {
   "cell_type": "code",
   "execution_count": null,
   "id": "7cdf246a",
   "metadata": {},
   "outputs": [],
   "source": [
    "#What's the dimensionality of this matrix (number of columns)?"
   ]
  },
  {
   "cell_type": "code",
   "execution_count": 55,
   "id": "f5f102d2",
   "metadata": {},
   "outputs": [
    {
     "name": "stdout",
     "output_type": "stream",
     "text": [
      "number of features: 515\n"
     ]
    }
   ],
   "source": [
    "print('number of features:',x_train.shape[1])"
   ]
  },
  {
   "cell_type": "code",
   "execution_count": null,
   "id": "094efc70",
   "metadata": {},
   "outputs": [],
   "source": [
    "#Q5. Training a model"
   ]
  },
  {
   "cell_type": "code",
   "execution_count": 56,
   "id": "d46cf6ae",
   "metadata": {},
   "outputs": [],
   "source": [
    "y_train = df['duration'].values"
   ]
  },
  {
   "cell_type": "code",
   "execution_count": 62,
   "id": "ad3e89b7",
   "metadata": {},
   "outputs": [],
   "source": [
    "lr = LinearRegression()\n",
    "lr.fit(x_train, y_train)\n",
    "\n",
    "y_pred = lr.predict(x_train)"
   ]
  },
  {
   "cell_type": "code",
   "execution_count": 61,
   "id": "625c3357",
   "metadata": {},
   "outputs": [
    {
     "data": {
      "text/plain": [
       "7.6492610279057605"
      ]
     },
     "execution_count": 61,
     "metadata": {},
     "output_type": "execute_result"
    }
   ],
   "source": [
    "#Q6. Evaluating the model\n",
    "np.sqrt(mean_squared_error(y_train, y_pred))"
   ]
  },
  {
   "cell_type": "code",
   "execution_count": null,
   "id": "356ca80d",
   "metadata": {},
   "outputs": [],
   "source": []
  }
 ],
 "metadata": {
  "kernelspec": {
   "display_name": "Python 3 (ipykernel)",
   "language": "python",
   "name": "python3"
  },
  "language_info": {
   "codemirror_mode": {
    "name": "ipython",
    "version": 3
   },
   "file_extension": ".py",
   "mimetype": "text/x-python",
   "name": "python",
   "nbconvert_exporter": "python",
   "pygments_lexer": "ipython3",
   "version": "3.9.12"
  }
 },
 "nbformat": 4,
 "nbformat_minor": 5
}
